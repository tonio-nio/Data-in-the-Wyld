{
 "cells": [
  {
   "cell_type": "code",
   "execution_count": 2,
   "metadata": {},
   "outputs": [],
   "source": [
    "import pandas as pd\n",
    "\n",
    "# Load the Excel files into DataFrames\n",
    "institution_address_business_it = pd.read_excel('institution_address_Business_IT.xlsx')\n",
    "institution_address_computer_science = pd.read_excel('institution_address_Computer_Science.xlsx')\n",
    "institution_address_digital_design = pd.read_excel('institution_address_Digital_Design.xlsx')\n",
    "institutions_years_papers_business_it = pd.read_excel('institutions_years_papers_Business_IT.xlsx')\n",
    "institutions_years_papers_computer_science = pd.read_excel('institutions_years_papers_Computer_Science.xlsx')\n",
    "institutions_years_papers_digital_design = pd.read_excel('institutions_years_papers_Digital_Design.xlsx')\n",
    "\n"
   ]
  },
  {
   "cell_type": "code",
   "execution_count": 3,
   "metadata": {},
   "outputs": [],
   "source": [
    "# Define the list of institutions to remove\n",
    "institutions_to_remove = [\n",
    "    'Technologies in Practice (TiP)',\n",
    "    'Digital Design',\n",
    "    'Center for Digital Welfare (CDW)',\n",
    "    'Information Systems and Digital Innovation (ISDI)',\n",
    "    'Computer Science',\n",
    "    'European Blockchain Center (EBC)',\n",
    "    'Center for Climate IT',\n",
    "    'Design Research Section',\n",
    "    'Play, Culture and AI Section',\n",
    "    'Air Lab',\n",
    "    'REFLACT',\n",
    "    'Interaction Design Research Group',\n",
    "    'cisat.dk',\n",
    "    'Media, Art & Design (MAD)',\n",
    "    'IxD Lab',\n",
    "    'Digital Societies and Participation Section',\n",
    "    'NEtwoRks, Data, and Society (NERDS)',\n",
    "    'Welfare Technology - Policy - People - Practices',\n",
    "    'Data-intensive Systems and Applications',\n",
    "    'Research Centre for Government IT',\n",
    "    'ETHOS Lab',\n",
    "    'Robotics, Evolution, and Art Lab (REAL)',\n",
    "    'Co-Design',\n",
    "    'Software Engineering',\n",
    "    'The Maritime Hub (MHub)',\n",
    "    'Center for Digital Play',\n",
    "    'Games Research Group',\n",
    "    'Human Data Interaction Lab (HDI)',\n",
    "    'Software Quality',\n",
    "    'Audio-Visual Computing',\n",
    "    'Programming Logic and Semantics',\n",
    "    'Machine Learning',\n",
    "    'Human-Centered Data Science (HCDS)',\n",
    "    'Danish Institute for IT Program Management (DIIP)',\n",
    "    'Management',\n",
    "    'BUILD Lab',\n",
    "    'Algorithms'\n",
    "]\n",
    "\n",
    "# Remove rows where 'Institution' is in the institutions_to_remove list\n",
    "institutions_years_papers_business_it = institutions_years_papers_business_it[\n",
    "    ~institutions_years_papers_business_it['Institution'].isin(institutions_to_remove)\n",
    "]\n"
   ]
  },
  {
   "cell_type": "code",
   "execution_count": 4,
   "metadata": {},
   "outputs": [],
   "source": [
    "# Define the list of institutions to remove\n",
    "institutions_to_remove = [\n",
    "    'Technologies in Practice (TiP)',\n",
    "    'NLPnorth',\n",
    "    'Business IT',\n",
    "    'Digital Design',\n",
    "    'Center for Digital Welfare (CDW)',\n",
    "    'Information Systems and Digital Innovation (ISDI)',\n",
    "    'Computer Science',\n",
    "    'European Blockchain Center (EBC)',\n",
    "    'Center for Climate IT',\n",
    "    'Design Research Section',\n",
    "    'Play, Culture and AI Section',\n",
    "    'Air Lab',\n",
    "    'Creative AI Lab',\n",
    "    'REFLACT',\n",
    "    'Interaction Design Research Group',\n",
    "    'cisat.dk',\n",
    "    'Media, Art & Design (MAD)',\n",
    "    'IxD Lab',\n",
    "    'Digital Societies and Participation Section',\n",
    "    'NEtwoRks, Data, and Society (NERDS)',\n",
    "    'Welfare Technology - Policy - People - Practices',\n",
    "    'Data-intensive Systems and Applications',\n",
    "    'Research Centre for Government IT',\n",
    "    'ETHOS Lab',\n",
    "    'Robotics, Evolution, and Art Lab (REAL)',\n",
    "    'Co-Design',\n",
    "    'Center for Computing Education Research (CCER)',\n",
    "    'Software Engineering',\n",
    "    'The Maritime Hub (MHub)',\n",
    "    'Center for Digital Play',\n",
    "    'Games Research Group',\n",
    "    'Human Data Interaction Lab (HDI)',\n",
    "    'Software Quality',\n",
    "    'Audio-Visual Computing',\n",
    "    'Programming Logic and Semantics',\n",
    "    'Machine Learning',\n",
    "    'Human-Centered Data Science (HCDS)',\n",
    "    'Danish Institute for IT Program Management (DIIP)',\n",
    "    'Management',\n",
    "    'BUILD Lab',\n",
    "    'Procedural eXpression Lab (PXL)',\n",
    "    'Algorithms'\n",
    "]\n",
    "\n",
    "# Remove rows where 'Institution' is in the institutions_to_remove list\n",
    "institutions_years_papers_computer_science = institutions_years_papers_computer_science[\n",
    "    ~institutions_years_papers_computer_science['Institution'].isin(institutions_to_remove)\n",
    "]"
   ]
  },
  {
   "cell_type": "code",
   "execution_count": 5,
   "metadata": {},
   "outputs": [],
   "source": [
    "# Define the list of institutions to remove\n",
    "institutions_to_remove = [\n",
    "    'Technologies in Practice (TiP)',\n",
    "    'NLPnorth',\n",
    "    'Business IT',\n",
    "    'Digital Design',\n",
    "    'Center for Digital Welfare (CDW)',\n",
    "    'Information Systems and Digital Innovation (ISDI)',\n",
    "    'Computer Science',\n",
    "    'European Blockchain Center (EBC)',\n",
    "    'Center for Climate IT',\n",
    "    'Design Research Section',\n",
    "    'Play, Culture and AI Section',\n",
    "    'Air Lab',\n",
    "    'Creative AI Lab',\n",
    "    'REFLACT',\n",
    "    'Interaction Design Research Group',\n",
    "    'cisat.dk',\n",
    "    'Media, Art & Design (MAD)',\n",
    "    'IxD Lab',\n",
    "    'Digital Societies and Participation Section',\n",
    "    'NEtwoRks, Data, and Society (NERDS)',\n",
    "    'Welfare Technology - Policy - People - Practices',\n",
    "    'Data-intensive Systems and Applications',\n",
    "    'Research Centre for Government IT',\n",
    "    'ETHOS Lab',\n",
    "    'Robotics, Evolution, and Art Lab (REAL)',\n",
    "    'Co-Design',\n",
    "    'Center for Computing Education Research (CCER)',\n",
    "    'Software Engineering',\n",
    "    'The Maritime Hub (MHub)',\n",
    "    'Center for Digital Play',\n",
    "    'Games Research Group',\n",
    "    'Human Data Interaction Lab (HDI)',\n",
    "    'Software Quality',\n",
    "    'Audio-Visual Computing',\n",
    "    'Programming Logic and Semantics',\n",
    "    'Machine Learning',\n",
    "    'Human-Centered Data Science (HCDS)',\n",
    "    'Danish Institute for IT Program Management (DIIP)',\n",
    "    'Management',\n",
    "    'BUILD Lab',\n",
    "    'Procedural eXpression Lab (PXL)',\n",
    "    'Algorithms'\n",
    "]\n",
    "\n",
    "# Remove rows where 'Institution' is in the institutions_to_remove list\n",
    "institutions_years_papers_digital_design = institutions_years_papers_digital_design[\n",
    "    ~institutions_years_papers_digital_design['Institution'].isin(institutions_to_remove)\n",
    "]"
   ]
  },
  {
   "cell_type": "code",
   "execution_count": 6,
   "metadata": {},
   "outputs": [],
   "source": [
    "# Adding 'area' column to institutions_years_papers_business_it with value \"Business IT\"\n",
    "institutions_years_papers_business_it['area'] = 'Business IT'\n",
    "\n",
    "# Adding 'area' column to institutions_years_papers_computer_science with value \"Computer Science\"\n",
    "institutions_years_papers_computer_science['area'] = 'Computer Science'\n",
    "\n",
    "# Adding 'area' column to institutions_years_papers_digital_design_cleaned with value \"Digital Design\"\n",
    "institutions_years_papers_digital_design['area'] = 'Digital Design'\n"
   ]
  },
  {
   "cell_type": "code",
   "execution_count": 7,
   "metadata": {},
   "outputs": [
    {
     "name": "stdout",
     "output_type": "stream",
     "text": [
      "          Institution  Year  \\\n",
      "0  Aalborg University  2024   \n",
      "1  Aalborg University  2024   \n",
      "2  Aalborg University  2023   \n",
      "3  Aalborg University  2023   \n",
      "4  Aalborg University  2023   \n",
      "\n",
      "                                               Title         area  \n",
      "0  The role of psychological safety in promoting ...  Business IT  \n",
      "1  Approaching digital anthropocene(s): A double ...  Business IT  \n",
      "2  Proposing organisational usability as an enabl...  Business IT  \n",
      "3  Opening the Blind Box: A multimodal account of...  Business IT  \n",
      "4                          Organisations as material  Business IT  \n"
     ]
    }
   ],
   "source": [
    "# Combine the three DataFrames into one using pd.concat\n",
    "combined_df = pd.concat([\n",
    "    institutions_years_papers_business_it,\n",
    "    institutions_years_papers_computer_science,\n",
    "    institutions_years_papers_digital_design\n",
    "], ignore_index=True)\n",
    "\n",
    "# Verify the result by displaying the first few rows of the combined DataFrame\n",
    "print(combined_df.head())\n"
   ]
  },
  {
   "cell_type": "code",
   "execution_count": 8,
   "metadata": {},
   "outputs": [
    {
     "name": "stdout",
     "output_type": "stream",
     "text": [
      "Number of duplicate rows: 1222\n",
      "                                    Institution  Year  \\\n",
      "10                           Aalborg University  2022   \n",
      "12                           Aalborg University  2022   \n",
      "15                           Aalborg University  2022   \n",
      "20                           Aalborg University  2021   \n",
      "23                           Aalborg University  2020   \n",
      "...                                         ...   ...   \n",
      "4909  Technion - Israel Institute of Technology  2018   \n",
      "4912                         Tampere University  2012   \n",
      "4913                             Agribuddy Ltd.  2021   \n",
      "4914              University College Copenhagen  2018   \n",
      "4915         Clausthal University of Technology  2018   \n",
      "\n",
      "                                                  Title            area  \n",
      "10              Relationality, commoning, and designing     Business IT  \n",
      "12    Government IT Projects: Current Evidence of Co...     Business IT  \n",
      "15    Explanations for budget and schedule overrun r...     Business IT  \n",
      "20    Research Methodologies and Ethical Challenges ...     Business IT  \n",
      "23    The hackathon format: an analysis of its possi...     Business IT  \n",
      "...                                                 ...             ...  \n",
      "4909  Blockchains for Business Process Management - ...  Digital Design  \n",
      "4912                  Conclusion and Look to the Future  Digital Design  \n",
      "4913  Agribuddy: Infrastructuring for Smallholder Fa...  Digital Design  \n",
      "4914  Digital by default? A qualitative study of exc...  Digital Design  \n",
      "4915  Virtual by Design: How a Work Environment Can ...  Digital Design  \n",
      "\n",
      "[1222 rows x 4 columns]\n"
     ]
    }
   ],
   "source": [
    "# Check for duplicates based on the 'Institution', 'Year', and 'Title' columns\n",
    "duplicates = combined_df.duplicated(subset=['Institution', 'Year', 'Title'], keep=False)\n",
    "\n",
    "# Count the number of duplicate rows\n",
    "num_duplicates = duplicates.sum()\n",
    "\n",
    "# Display the number of duplicates\n",
    "print(f\"Number of duplicate rows: {num_duplicates}\")\n",
    "duplicate_rows = combined_df[duplicates]\n",
    "print(duplicate_rows)"
   ]
  },
  {
   "cell_type": "code",
   "execution_count": 9,
   "metadata": {},
   "outputs": [
    {
     "name": "stdout",
     "output_type": "stream",
     "text": [
      "Number of duplicates after cleaning: 0\n",
      "          Institution  Year  \\\n",
      "0  Aalborg University  2024   \n",
      "1  Aalborg University  2024   \n",
      "2  Aalborg University  2023   \n",
      "3  Aalborg University  2023   \n",
      "4  Aalborg University  2023   \n",
      "\n",
      "                                               Title         area  \n",
      "0  The role of psychological safety in promoting ...  Business IT  \n",
      "1  Approaching digital anthropocene(s): A double ...  Business IT  \n",
      "2  Proposing organisational usability as an enabl...  Business IT  \n",
      "3  Opening the Blind Box: A multimodal account of...  Business IT  \n",
      "4                          Organisations as material  Business IT  \n"
     ]
    }
   ],
   "source": [
    "# Step 1: Identify duplicate rows based on 'Institution', 'Year', and 'Title' columns\n",
    "duplicates = combined_df.duplicated(subset=['Institution', 'Year', 'Title'], keep=False)\n",
    "\n",
    "# Step 2: Create a mask for duplicates\n",
    "duplicate_rows = combined_df[duplicates]\n",
    "\n",
    "# Step 3: Update the 'area' column of duplicates to 'Multiple areas'\n",
    "combined_df.loc[duplicates, 'area'] = 'Multiple areas'\n",
    "\n",
    "# Step 4: Drop all but one instance of each duplicate row (keeping the first)\n",
    "combined_df_cleaned = combined_df.drop_duplicates(subset=['Institution', 'Year', 'Title'], keep='first')\n",
    "\n",
    "# Step 5: Verify the result by printing the cleaned DataFrame and checking for duplicates\n",
    "print(f\"Number of duplicates after cleaning: {combined_df_cleaned.duplicated(subset=['Institution', 'Year', 'Title']).sum()}\")\n",
    "print(combined_df_cleaned.head())\n"
   ]
  },
  {
   "cell_type": "code",
   "execution_count": 10,
   "metadata": {},
   "outputs": [
    {
     "name": "stdout",
     "output_type": "stream",
     "text": [
      "['Business IT' 'Multiple areas' 'Computer Science' 'Digital Design']\n"
     ]
    }
   ],
   "source": [
    "# Show all the unique values in the 'area' column of the cleaned DataFrame\n",
    "unique_area_values = combined_df_cleaned['area'].unique()\n",
    "\n",
    "# Display the unique values\n",
    "print(unique_area_values)\n"
   ]
  },
  {
   "cell_type": "code",
   "execution_count": 11,
   "metadata": {},
   "outputs": [
    {
     "name": "stdout",
     "output_type": "stream",
     "text": [
      "                    Institution Name  \\\n",
      "0                 Aalborg University   \n",
      "1                  Aarhus University   \n",
      "2  Johann Wolfgang Goethe University   \n",
      "3                Roskilde University   \n",
      "4           University of Copenhagen   \n",
      "\n",
      "                                             Address  \n",
      "0  Address :   Fredrik Bajers Vej 7K, 9220 Aalbor...  \n",
      "1  Address :   Nordre Ringgade 1, 8000 Aarhus Cen...  \n",
      "2  Address :   Theodor-W.-Adorno-Platz 1, 60629 F...  \n",
      "3       Address :   Universitetsvej 1, 4000 Roskilde  \n",
      "4           Address :   Nørregade 10, 1172 København  \n"
     ]
    }
   ],
   "source": [
    "# Combine the three institution address DataFrames into one\n",
    "combined_address_df = pd.concat([\n",
    "    institution_address_business_it,\n",
    "    institution_address_computer_science,\n",
    "    institution_address_digital_design\n",
    "], ignore_index=True)\n",
    "\n",
    "# Verify the result by displaying the first few rows of the combined DataFrame\n",
    "print(combined_address_df.head())\n"
   ]
  },
  {
   "cell_type": "code",
   "execution_count": 12,
   "metadata": {},
   "outputs": [
    {
     "name": "stdout",
     "output_type": "stream",
     "text": [
      "Number of duplicate rows based on 'Institution Name': 737\n"
     ]
    }
   ],
   "source": [
    "# Check for duplicates based on the 'Institution Name' column\n",
    "duplicate_institutions = combined_address_df.duplicated(subset=['Institution Name'], keep=False)\n",
    "\n",
    "# Count the number of duplicate rows\n",
    "num_duplicate_institutions = duplicate_institutions.sum()\n",
    "\n",
    "# Display the number of duplicates\n",
    "print(f\"Number of duplicate rows based on 'Institution Name': {num_duplicate_institutions}\")\n",
    "\n"
   ]
  },
  {
   "cell_type": "code",
   "execution_count": 13,
   "metadata": {},
   "outputs": [
    {
     "name": "stdout",
     "output_type": "stream",
     "text": [
      "Number of rows after removing duplicates: 958\n",
      "                    Institution Name  \\\n",
      "0                 Aalborg University   \n",
      "1                  Aarhus University   \n",
      "2  Johann Wolfgang Goethe University   \n",
      "3                Roskilde University   \n",
      "4           University of Copenhagen   \n",
      "\n",
      "                                             Address  \n",
      "0  Address :   Fredrik Bajers Vej 7K, 9220 Aalbor...  \n",
      "1  Address :   Nordre Ringgade 1, 8000 Aarhus Cen...  \n",
      "2  Address :   Theodor-W.-Adorno-Platz 1, 60629 F...  \n",
      "3       Address :   Universitetsvej 1, 4000 Roskilde  \n",
      "4           Address :   Nørregade 10, 1172 København  \n"
     ]
    }
   ],
   "source": [
    "# Remove duplicates based on the 'Institution Name' column, keeping the first occurrence\n",
    "combined_address_df_cleaned = combined_address_df.drop_duplicates(subset=['Institution Name'], keep='first')\n",
    "\n",
    "# Verify the result by checking the number of remaining rows and displaying the first few rows\n",
    "print(f\"Number of rows after removing duplicates: {len(combined_address_df_cleaned)}\")\n",
    "print(combined_address_df_cleaned.head())\n"
   ]
  },
  {
   "cell_type": "code",
   "execution_count": 14,
   "metadata": {},
   "outputs": [
    {
     "name": "stdout",
     "output_type": "stream",
     "text": [
      "                    Institution Name  \\\n",
      "0                 Aalborg University   \n",
      "1                  Aarhus University   \n",
      "2  Johann Wolfgang Goethe University   \n",
      "3                Roskilde University   \n",
      "4           University of Copenhagen   \n",
      "\n",
      "                                             Address  \n",
      "0            Fredrik Bajers Vej 7K, 9220 Aalborg Øst  \n",
      "1             Nordre Ringgade 1, 8000 Aarhus Centrum  \n",
      "2  Theodor-W.-Adorno-Platz 1, 60629 Frankfurt am ...  \n",
      "3                   Universitetsvej 1, 4000 Roskilde  \n",
      "4                       Nørregade 10, 1172 København  \n"
     ]
    },
    {
     "name": "stderr",
     "output_type": "stream",
     "text": [
      "C:\\Users\\Mikas\\AppData\\Local\\Temp\\ipykernel_3564\\3655504651.py:5: SettingWithCopyWarning: \n",
      "A value is trying to be set on a copy of a slice from a DataFrame.\n",
      "Try using .loc[row_indexer,col_indexer] = value instead\n",
      "\n",
      "See the caveats in the documentation: https://pandas.pydata.org/pandas-docs/stable/user_guide/indexing.html#returning-a-view-versus-a-copy\n",
      "  filtered_combined_address_df['Address'] = filtered_combined_address_df['Address'].str.replace(r\"^(Address :|Headquarters :)\\s*\", \"\", regex=True)\n"
     ]
    }
   ],
   "source": [
    "# Step 1: Filter out rows where 'Address' contains \"No address found\"\n",
    "filtered_combined_address_df = combined_address_df_cleaned[~combined_address_df_cleaned['Address'].str.contains(\"No address found\", na=False)]\n",
    "\n",
    "# Step 2: Remove the \"Address :\" and \"Headquarters :\" prefixes from the 'Address' column\n",
    "filtered_combined_address_df['Address'] = filtered_combined_address_df['Address'].str.replace(r\"^(Address :|Headquarters :)\\s*\", \"\", regex=True)\n",
    "\n",
    "# Verify the result by displaying the first few rows of the cleaned DataFrame\n",
    "print(filtered_combined_address_df[['Institution Name', 'Address']].head())\n"
   ]
  },
  {
   "cell_type": "code",
   "execution_count": 15,
   "metadata": {},
   "outputs": [
    {
     "name": "stdout",
     "output_type": "stream",
     "text": [
      "          Institution  Year  \\\n",
      "0  Aalborg University  2024   \n",
      "1  Aalborg University  2024   \n",
      "2  Aalborg University  2023   \n",
      "3  Aalborg University  2023   \n",
      "4  Aalborg University  2023   \n",
      "\n",
      "                                               Title         area  \\\n",
      "0  The role of psychological safety in promoting ...  Business IT   \n",
      "1  Approaching digital anthropocene(s): A double ...  Business IT   \n",
      "2  Proposing organisational usability as an enabl...  Business IT   \n",
      "3  Opening the Blind Box: A multimodal account of...  Business IT   \n",
      "4                          Organisations as material  Business IT   \n",
      "\n",
      "                                   Address  \n",
      "0  Fredrik Bajers Vej 7K, 9220 Aalborg Øst  \n",
      "1  Fredrik Bajers Vej 7K, 9220 Aalborg Øst  \n",
      "2  Fredrik Bajers Vej 7K, 9220 Aalborg Øst  \n",
      "3  Fredrik Bajers Vej 7K, 9220 Aalborg Øst  \n",
      "4  Fredrik Bajers Vej 7K, 9220 Aalborg Øst  \n"
     ]
    }
   ],
   "source": [
    "# Step 1: Rename 'Institution Name' in filtered_combined_address_df to 'Institution' for the merge\n",
    "filtered_combined_address_df = filtered_combined_address_df.rename(columns={'Institution Name': 'Institution'})\n",
    "\n",
    "# Step 2: Merge the two DataFrames on the 'Institution' column\n",
    "df = pd.merge(combined_df_cleaned, filtered_combined_address_df[['Institution', 'Address']], on='Institution', how='left')\n",
    "\n",
    "# Step 3: Verify the result by displaying the first few rows of the merged DataFrame\n",
    "print(df.head())\n"
   ]
  },
  {
   "cell_type": "code",
   "execution_count": 16,
   "metadata": {},
   "outputs": [],
   "source": [
    "#pip install folium geopy ipywidgets\n"
   ]
  },
  {
   "cell_type": "code",
   "execution_count": 23,
   "metadata": {},
   "outputs": [
    {
     "data": {
      "application/vnd.jupyter.widget-view+json": {
       "model_id": "e0c1029f012d44daafa2c322bbb9cfe0",
       "version_major": 2,
       "version_minor": 0
      },
      "text/plain": [
       "SelectionSlider(continuous_update=False, description='Year:', options=(np.int64(1998), np.int64(2001), np.int6…"
      ]
     },
     "metadata": {},
     "output_type": "display_data"
    },
    {
     "data": {
      "application/vnd.jupyter.widget-view+json": {
       "model_id": "f5a4d92b63f141ab9ab715ea522e15ef",
       "version_major": 2,
       "version_minor": 0
      },
      "text/plain": [
       "SelectMultiple(description='Areas:', index=(0, 1, 2, 3), options=('Business IT', 'Multiple areas', 'Computer S…"
      ]
     },
     "metadata": {},
     "output_type": "display_data"
    },
    {
     "data": {
      "application/vnd.jupyter.widget-view+json": {
       "model_id": "4d9f2a4c08484e81bc555281b0d1cf33",
       "version_major": 2,
       "version_minor": 0
      },
      "text/plain": [
       "Output()"
      ]
     },
     "metadata": {},
     "output_type": "display_data"
    }
   ],
   "source": [
    "\n",
    "import folium\n",
    "from geopy.geocoders import Nominatim\n",
    "import time\n",
    "import ipywidgets as widgets\n",
    "from IPython.display import display, clear_output\n",
    "\n",
    "# Geolocator setup\n",
    "geolocator = Nominatim(user_agent=\"institution_locator\")\n",
    "\n",
    "# We now use the entire df dataset (no filtering to 100 cases)\n",
    "df_full = df  # Assuming df contains your full dataset\n",
    "\n",
    "# Step 1: Create a scrollable bar for year selection\n",
    "years = sorted(df_full['Year'].unique())\n",
    "year_slider = widgets.SelectionSlider(\n",
    "    options=years,\n",
    "    value=years[0],\n",
    "    description='Year:',\n",
    "    disabled=False,\n",
    "    continuous_update=False,\n",
    "    orientation='horizontal',\n",
    "    readout=True\n",
    ")\n",
    "\n",
    "# Step 2: Create a set of checkboxes for area filtering\n",
    "areas = df_full['area'].unique()\n",
    "area_checkboxes = widgets.SelectMultiple(\n",
    "    options=areas,\n",
    "    value=tuple(areas),  # Convert to tuple\n",
    "    description='Areas:',\n",
    "    disabled=False\n",
    ")\n",
    "\n",
    "# Step 3: Function to update the map based on selected year and area\n",
    "def update_map(year, selected_areas):\n",
    "    # Filter the dataframe by year and areas\n",
    "    filtered_df = df_full[(df_full['Year'] == year) & (df_full['area'].isin(selected_areas))]\n",
    "    \n",
    "    # Create a map centered on a default location\n",
    "    map_center = [55.6761, 12.5683]  # Center the map on Copenhagen for example\n",
    "    institution_map = folium.Map(location=map_center, zoom_start=5)\n",
    "\n",
    "    # Group data by institution to ensure one pin per institution\n",
    "    grouped_df = filtered_df.groupby('Institution')\n",
    "    \n",
    "    for institution, group in grouped_df:\n",
    "        # Geocode institution address (Cleaned Address)\n",
    "        address = group['Address'].values[0]\n",
    "        try:\n",
    "            location = geolocator.geocode(address)\n",
    "            if location:\n",
    "                # Generate the content for the popup (group articles by area and show count)\n",
    "                popup_content = f\"<b>{institution}</b><br>\"\n",
    "                for area in selected_areas:\n",
    "                    # Count the number of articles in the chosen year and area\n",
    "                    article_count = group[group['area'] == area]['Title'].count()\n",
    "                    if article_count > 0:\n",
    "                        popup_content += f\"<b>{area}:</b> {article_count} articles<br>\"\n",
    "                \n",
    "                # Add the marker to the map\n",
    "                folium.Marker(\n",
    "                    [location.latitude, location.longitude],\n",
    "                    popup=popup_content\n",
    "                ).add_to(institution_map)\n",
    "            # Sleep to respect the geocoding service rate limit\n",
    "            time.sleep(1)\n",
    "        except Exception as e:\n",
    "            print(f\"Error geocoding address: {address} - {e}\")\n",
    "    \n",
    "    return institution_map\n",
    "\n",
    "# Step 4: Function to handle widget interaction\n",
    "def update_display(year, selected_areas):\n",
    "    # Clear the previous display\n",
    "    clear_output(wait=True)\n",
    "    \n",
    "    # Update the map based on selected year and areas\n",
    "    updated_map = update_map(year, selected_areas)\n",
    "    \n",
    "    # Display the updated map and widgets\n",
    "    display(updated_map, year_slider, area_checkboxes)\n",
    "\n",
    "# Step 5: Set up interaction and display widgets\n",
    "interactive_map = widgets.interactive_output(update_display, {'year': year_slider, 'selected_areas': area_checkboxes})\n",
    "\n",
    "# Display the widgets and the interactive map\n",
    "display(year_slider, area_checkboxes, interactive_map)\n"
   ]
  }
 ],
 "metadata": {
  "kernelspec": {
   "display_name": ".conda",
   "language": "python",
   "name": "python3"
  },
  "language_info": {
   "codemirror_mode": {
    "name": "ipython",
    "version": 3
   },
   "file_extension": ".py",
   "mimetype": "text/x-python",
   "name": "python",
   "nbconvert_exporter": "python",
   "pygments_lexer": "ipython3",
   "version": "3.11.9"
  }
 },
 "nbformat": 4,
 "nbformat_minor": 2
}
