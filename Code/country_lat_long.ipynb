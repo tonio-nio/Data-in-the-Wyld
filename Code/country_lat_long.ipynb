{
 "cells": [
  {
   "cell_type": "code",
   "execution_count": 6,
   "metadata": {},
   "outputs": [
    {
     "name": "stdout",
     "output_type": "stream",
     "text": [
      "Error with geocoding address Dublin City University, Collins Ave Ext, Whitehall, Dublin 9, Ireland: HTTPSConnectionPool(host='photon.komoot.io', port=443): Max retries exceeded with url: /api?q=Dublin+City+University%2C+Collins+Ave+Ext%2C+Whitehall%2C+Dublin+9%2C+Ireland&limit=1 (Caused by ReadTimeoutError(\"HTTPSConnectionPool(host='photon.komoot.io', port=443): Read timed out. (read timeout=1)\"))\n",
      "Error with geocoding address Durham, NC 27708, USA: HTTPSConnectionPool(host='photon.komoot.io', port=443): Max retries exceeded with url: /api?q=Durham%2C+NC+27708%2C+USA&limit=1 (Caused by ReadTimeoutError(\"HTTPSConnectionPool(host='photon.komoot.io', port=443): Read timed out. (read timeout=1)\"))\n",
      "Error with geocoding address Institute of Technology, Dublin Rd, Marshes Upper, Dundalk, Co. Louth, A91 K584, Ireland: HTTPSConnectionPool(host='photon.komoot.io', port=443): Max retries exceeded with url: /api?q=Institute+of+Technology%2C+Dublin+Rd%2C+Marshes+Upper%2C+Dundalk%2C+Co.+Louth%2C+A91+K584%2C+Ireland&limit=1 (Caused by ReadTimeoutError(\"HTTPSConnectionPool(host='photon.komoot.io', port=443): Read timed out. (read timeout=1)\"))\n",
      "Error with geocoding address The Palatine Centre, University, Stockton Rd, Durham DH1 3LE, UK: HTTPSConnectionPool(host='photon.komoot.io', port=443): Max retries exceeded with url: /api?q=The+Palatine+Centre%2C+University%2C+Stockton+Rd%2C+Durham+DH1+3LE%2C+UK&limit=1 (Caused by ReadTimeoutError(\"HTTPSConnectionPool(host='photon.komoot.io', port=443): Read timed out. (read timeout=1)\"))\n",
      "Error with geocoding address China, Shanghai, Xuhui District, 梅陇路130号 邮政编码: 200231: HTTPSConnectionPool(host='photon.komoot.io', port=443): Max retries exceeded with url: /api?q=China%2C+Shanghai%2C+Xuhui+District%2C+%E6%A2%85%E9%99%87%E8%B7%AF130%E5%8F%B7+%E9%82%AE%E6%94%BF%E7%BC%96%E7%A0%81%3A+200231&limit=1 (Caused by ReadTimeoutError(\"HTTPSConnectionPool(host='photon.komoot.io', port=443): Read timed out. (read timeout=1)\"))\n",
      "Error with geocoding address Geschwister-Scholl-Platz, 72074 Tübingen, Germany: HTTPSConnectionPool(host='photon.komoot.io', port=443): Max retries exceeded with url: /api?q=Geschwister-Scholl-Platz%2C+72074+T%C3%BCbingen%2C+Germany&limit=1 (Caused by ReadTimeoutError(\"HTTPSConnectionPool(host='photon.komoot.io', port=443): Read timed out. (read timeout=1)\"))\n",
      "Error with geocoding address 1100 Notre-Dame St W, Montreal, Quebec H3C 1K3, Canada: HTTPSConnectionPool(host='photon.komoot.io', port=443): Max retries exceeded with url: /api?q=1100+Notre-Dame+St+W%2C+Montreal%2C+Quebec+H3C+1K3%2C+Canada&limit=1 (Caused by ReadTimeoutError(\"HTTPSConnectionPool(host='photon.komoot.io', port=443): Read timed out. (read timeout=1)\"))\n",
      "Error with geocoding address Campus de Ker lann, 11 Av. Robert Schuman, 35170 Bruz, France: HTTPSConnectionPool(host='photon.komoot.io', port=443): Max retries exceeded with url: /api?q=Campus+de+Ker+lann%2C+11+Av.+Robert+Schuman%2C+35170+Bruz%2C+France&limit=1 (Caused by ReadTimeoutError(\"HTTPSConnectionPool(host='photon.komoot.io', port=443): Read timed out. (read timeout=1)\"))\n",
      "Error with geocoding address 21 Station Rd, Cambridge CB1 2FB, UK: HTTPSConnectionPool(host='photon.komoot.io', port=443): Max retries exceeded with url: /api?q=21+Station+Rd%2C+Cambridge+CB1+2FB%2C+UK&limit=1 (Caused by ConnectTimeoutError(<urllib3.connection.HTTPSConnection object at 0x0000024040114CD0>, 'Connection to photon.komoot.io timed out. (connect timeout=1)'))\n",
      "Error with geocoding address Lindstedtsvägen 5, 100 44 Stockholm, Sweden: HTTPSConnectionPool(host='photon.komoot.io', port=443): Max retries exceeded with url: /api?q=Lindstedtsv%C3%A4gen+5%2C+100+44+Stockholm%2C+Sweden&limit=1 (Caused by ReadTimeoutError(\"HTTPSConnectionPool(host='photon.komoot.io', port=443): Read timed out. (read timeout=1)\"))\n",
      "Error with geocoding address The Burroughs, London NW4 4BT, UK: HTTPSConnectionPool(host='photon.komoot.io', port=443): Max retries exceeded with url: /api?q=The+Burroughs%2C+London+NW4+4BT%2C+UK&limit=1 (Caused by ReadTimeoutError(\"HTTPSConnectionPool(host='photon.komoot.io', port=443): Read timed out. (read timeout=1)\"))\n",
      "Error with geocoding address McLean, Virginia, USA: HTTPSConnectionPool(host='photon.komoot.io', port=443): Max retries exceeded with url: /api?q=McLean%2C+Virginia%2C+USA&limit=1 (Caused by ReadTimeoutError(\"HTTPSConnectionPool(host='photon.komoot.io', port=443): Read timed out. (read timeout=1)\"))\n",
      "Error with geocoding address 1-1-1 Umezono, Tsukuba, Ibaraki 305-8560, Japan: HTTPSConnectionPool(host='photon.komoot.io', port=443): Max retries exceeded with url: /api?q=1-1-1+Umezono%2C+Tsukuba%2C+Ibaraki+305-8560%2C+Japan&limit=1 (Caused by ReadTimeoutError(\"HTTPSConnectionPool(host='photon.komoot.io', port=443): Read timed out. (read timeout=1)\"))\n",
      "Error with geocoding address Building 180/139 Carrington Road, Mount Albert, Auckland 1025, New Zealand: HTTPSConnectionPool(host='photon.komoot.io', port=443): Max retries exceeded with url: /api?q=Building+180%2F139+Carrington+Road%2C+Mount+Albert%2C+Auckland+1025%2C+New+Zealand&limit=1 (Caused by ReadTimeoutError(\"HTTPSConnectionPool(host='photon.komoot.io', port=443): Read timed out. (read timeout=1)\"))\n",
      "Error with geocoding address Université de Lyon, 92 Rue Pasteur, 69007 Lyon, France: HTTPSConnectionPool(host='photon.komoot.io', port=443): Max retries exceeded with url: /api?q=Universit%C3%A9+de+Lyon%2C+92+Rue+Pasteur%2C+69007+Lyon%2C+France&limit=1 (Caused by ReadTimeoutError(\"HTTPSConnectionPool(host='photon.komoot.io', port=443): Read timed out. (read timeout=1)\"))\n",
      "Error with geocoding address University Way, London E16 2RD, UK: HTTPSConnectionPool(host='photon.komoot.io', port=443): Max retries exceeded with url: /api?q=University+Way%2C+London+E16+2RD%2C+UK&limit=1 (Caused by ReadTimeoutError(\"HTTPSConnectionPool(host='photon.komoot.io', port=443): Read timed out. (read timeout=1)\"))\n",
      "Error with geocoding address University of Fort Hare Alice Campus, Ring Road, Dikeni, 5700, South Africa: HTTPSConnectionPool(host='photon.komoot.io', port=443): Max retries exceeded with url: /api?q=University+of+Fort+Hare+Alice+Campus%2C+Ring+Road%2C+Dikeni%2C+5700%2C+South+Africa&limit=1 (Caused by ReadTimeoutError(\"HTTPSConnectionPool(host='photon.komoot.io', port=443): Read timed out. (read timeout=1)\"))\n",
      "Geolocation data added and file saved.\n"
     ]
    }
   ],
   "source": [
    "import pandas as pd\n",
    "from geopy.geocoders import Photon\n",
    "from time import sleep\n",
    "\n",
    "# Load your dataset\n",
    "df = pd.read_excel('Institution_Address.xlsx')\n",
    "\n",
    "# Initialize Photon geocoder\n",
    "geolocator = Photon(user_agent=\"geoapiExercises\")\n",
    "\n",
    "# Function to get latitude and longitude\n",
    "def get_lat_lon(address):\n",
    "    try:\n",
    "        location = geolocator.geocode(address)\n",
    "        if location:\n",
    "            return pd.Series([location.latitude, location.longitude])\n",
    "        else:\n",
    "            return pd.Series([None, None])\n",
    "    except Exception as e:\n",
    "        print(f\"Error with geocoding address {address}: {e}\")\n",
    "        return pd.Series([None, None])\n",
    "\n",
    "# Extract latitude and longitude for each address\n",
    "df[['Latitude', 'Longitude']] = df['Address'].apply(lambda x: get_lat_lon(x))\n",
    "\n",
    "# Save the updated dataframe to a new Excel file\n",
    "df.to_excel('Updated_Institution_Address_with_Lat_Lon_Photon.xlsx', index=False)\n",
    "\n",
    "print(\"Geolocation data added and file saved.\")\n"
   ]
  }
 ],
 "metadata": {
  "kernelspec": {
   "display_name": ".conda",
   "language": "python",
   "name": "python3"
  },
  "language_info": {
   "codemirror_mode": {
    "name": "ipython",
    "version": 3
   },
   "file_extension": ".py",
   "mimetype": "text/x-python",
   "name": "python",
   "nbconvert_exporter": "python",
   "pygments_lexer": "ipython3",
   "version": "3.11.9"
  }
 },
 "nbformat": 4,
 "nbformat_minor": 2
}
