{
 "cells": [
  {
   "cell_type": "code",
   "execution_count": 19,
   "metadata": {},
   "outputs": [],
   "source": [
    "import pandas as pd\n",
    "from geopy.geocoders import Nominatim"
   ]
  },
  {
   "cell_type": "code",
   "execution_count": 28,
   "metadata": {},
   "outputs": [
    {
     "name": "stdout",
     "output_type": "stream",
     "text": [
      "Error geocoding address: 1125 Colonel By Dr, Ottawa, ON K1S 5B6, Canada - HTTPSConnectionPool(host='nominatim.openstreetmap.org', port=443): Max retries exceeded with url: /search?q=1125+Colonel+By+Dr%2C+Ottawa%2C+ON+K1S+5B6%2C+Canada&format=json&limit=1 (Caused by ReadTimeoutError(\"HTTPSConnectionPool(host='nominatim.openstreetmap.org', port=443): Read timed out. (read timeout=1)\"))\n",
      "Error geocoding address: The Palatine Centre, University, Stockton Rd, Durham DH1 3LE, United Kingdom - HTTPSConnectionPool(host='nominatim.openstreetmap.org', port=443): Max retries exceeded with url: /search?q=The+Palatine+Centre%2C+University%2C+Stockton+Rd%2C+Durham+DH1+3LE%2C+United+Kingdom&format=json&limit=1 (Caused by ReadTimeoutError(\"HTTPSConnectionPool(host='nominatim.openstreetmap.org', port=443): Read timed out. (read timeout=1)\"))\n",
      "Error geocoding address: R. Eng. Agronômico Andrei Cristian Ferreira, s/n - Trindade, Florianópolis - SC, 88040-900, Brazil - HTTPSConnectionPool(host='nominatim.openstreetmap.org', port=443): Max retries exceeded with url: /search?q=R.+Eng.+Agron%C3%B4mico+Andrei+Cristian+Ferreira%2C+s%2Fn+-+Trindade%2C+Florian%C3%B3polis+-+SC%2C+88040-900%2C+Brazil&format=json&limit=1 (Caused by ReadTimeoutError(\"HTTPSConnectionPool(host='nominatim.openstreetmap.org', port=443): Read timed out. (read timeout=1)\"))\n",
      "Error geocoding address: 11200 SW 8th St, Miami, FL 33199, United States - HTTPSConnectionPool(host='nominatim.openstreetmap.org', port=443): Max retries exceeded with url: /search?q=11200+SW+8th+St%2C+Miami%2C+FL+33199%2C+United+States&format=json&limit=1 (Caused by ReadTimeoutError(\"HTTPSConnectionPool(host='nominatim.openstreetmap.org', port=443): Read timed out. (read timeout=1)\"))\n",
      "Error geocoding address: 3700 O St NW, Washington, DC 20057, United States - HTTPSConnectionPool(host='nominatim.openstreetmap.org', port=443): Max retries exceeded with url: /search?q=3700+O+St+NW%2C+Washington%2C+DC+20057%2C+United+States&format=json&limit=1 (Caused by ReadTimeoutError(\"HTTPSConnectionPool(host='nominatim.openstreetmap.org', port=443): Read timed out. (read timeout=1)\"))\n",
      "Error geocoding address: Atlanta, GA 30302, United States - HTTPSConnectionPool(host='nominatim.openstreetmap.org', port=443): Max retries exceeded with url: /search?q=Atlanta%2C+GA+30302%2C+United+States&format=json&limit=1 (Caused by ReadTimeoutError(\"HTTPSConnectionPool(host='nominatim.openstreetmap.org', port=443): Read timed out. (read timeout=1)\"))\n",
      "Error geocoding address: 1 Rue de la Noë, 44300 Nantes, France - HTTPSConnectionPool(host='nominatim.openstreetmap.org', port=443): Max retries exceeded with url: /search?q=1+Rue+de+la+No%C3%AB%2C+44300+Nantes%2C+France&format=json&limit=1 (Caused by ReadTimeoutError(\"HTTPSConnectionPool(host='nominatim.openstreetmap.org', port=443): Read timed out. (read timeout=1)\"))\n",
      "Error geocoding address: Château de la Source, 45100 Orléans, France - HTTPSConnectionPool(host='nominatim.openstreetmap.org', port=443): Max retries exceeded with url: /search?q=Ch%C3%A2teau+de+la+Source%2C+45100+Orl%C3%A9ans%2C+France&format=json&limit=1 (Caused by ReadTimeoutError(\"HTTPSConnectionPool(host='nominatim.openstreetmap.org', port=443): Read timed out. (read timeout=1)\"))\n",
      "Error geocoding address: Adelaide SA 5005, Australia - HTTPSConnectionPool(host='nominatim.openstreetmap.org', port=443): Max retries exceeded with url: /search?q=Adelaide+SA+5005%2C+Australia&format=json&limit=1 (Caused by ReadTimeoutError(\"HTTPSConnectionPool(host='nominatim.openstreetmap.org', port=443): Read timed out. (read timeout=1)\"))\n",
      "Error geocoding address: Bibliothekstraße 1, 28359 Bremen, Germany - HTTPSConnectionPool(host='nominatim.openstreetmap.org', port=443): Max retries exceeded with url: /search?q=Bibliothekstra%C3%9Fe+1%2C+28359+Bremen%2C+Germany&format=json&limit=1 (Caused by ReadTimeoutError(\"HTTPSConnectionPool(host='nominatim.openstreetmap.org', port=443): Read timed out. (read timeout=1)\"))\n"
     ]
    }
   ],
   "source": [
    "addresses = pd.read_csv('../Data/Addresses.csv')\n",
    "geolocator = Nominatim(user_agent=\"institution_locator\")\n",
    "addresses[\"latitude\"] = None\n",
    "addresses[\"longitude\"] = None\n",
    "\n",
    "for idx, row in addresses.iterrows():\n",
    "    address = row[\"Address\"]\n",
    "    try:\n",
    "        location = geolocator.geocode(address)\n",
    "        addresses.at[idx, \"latitude\"] = False\n",
    "        addresses.at[idx, \"longitude\"] = False\n",
    "        if (location):\n",
    "            addresses.at[idx, \"latitude\"] = location.latitude\n",
    "            addresses.at[idx, \"longitude\"] = location.longitude\n",
    "    except Exception as e:\n",
    "        print(f\"Error geocoding address: {address} - {e}\")\n",
    "        addresses.at[idx, \"latitude\"] = False\n",
    "        addresses.at[idx, \"longitude\"] = False"
   ]
  },
  {
   "cell_type": "code",
   "execution_count": 37,
   "metadata": {},
   "outputs": [
    {
     "data": {
      "text/html": [
       "<div>\n",
       "<style scoped>\n",
       "    .dataframe tbody tr th:only-of-type {\n",
       "        vertical-align: middle;\n",
       "    }\n",
       "\n",
       "    .dataframe tbody tr th {\n",
       "        vertical-align: top;\n",
       "    }\n",
       "\n",
       "    .dataframe thead th {\n",
       "        text-align: right;\n",
       "    }\n",
       "</style>\n",
       "<table border=\"1\" class=\"dataframe\">\n",
       "  <thead>\n",
       "    <tr style=\"text-align: right;\">\n",
       "      <th></th>\n",
       "      <th>Institution Name</th>\n",
       "      <th>Address</th>\n",
       "      <th>latitude</th>\n",
       "      <th>longitude</th>\n",
       "    </tr>\n",
       "  </thead>\n",
       "  <tbody>\n",
       "    <tr>\n",
       "      <th>0</th>\n",
       "      <td>3DInteractive</td>\n",
       "      <td>No address found</td>\n",
       "      <td>False</td>\n",
       "      <td>False</td>\n",
       "    </tr>\n",
       "    <tr>\n",
       "      <th>1</th>\n",
       "      <td>4Brain, Department of Neurology, Ghent Univers...</td>\n",
       "      <td>No address found</td>\n",
       "      <td>False</td>\n",
       "      <td>False</td>\n",
       "    </tr>\n",
       "    <tr>\n",
       "      <th>2</th>\n",
       "      <td>A.P. Møller - Mærsk A/S</td>\n",
       "      <td>Esplanaden 50, 1098 København</td>\n",
       "      <td>55.687663</td>\n",
       "      <td>12.597673</td>\n",
       "    </tr>\n",
       "    <tr>\n",
       "      <th>3</th>\n",
       "      <td>AAL Association</td>\n",
       "      <td>No address found</td>\n",
       "      <td>False</td>\n",
       "      <td>False</td>\n",
       "    </tr>\n",
       "    <tr>\n",
       "      <th>4</th>\n",
       "      <td>Aalborg University</td>\n",
       "      <td>Fredrik Bajers Vej 7K, 9220 Aalborg Øst</td>\n",
       "      <td>57.01396</td>\n",
       "      <td>9.984469</td>\n",
       "    </tr>\n",
       "    <tr>\n",
       "      <th>...</th>\n",
       "      <td>...</td>\n",
       "      <td>...</td>\n",
       "      <td>...</td>\n",
       "      <td>...</td>\n",
       "    </tr>\n",
       "    <tr>\n",
       "      <th>953</th>\n",
       "      <td>Yonsei University</td>\n",
       "      <td>50 Yonsei-ro, Seodaemun-gu, Seoul, South Korea</td>\n",
       "      <td>37.567777</td>\n",
       "      <td>126.939403</td>\n",
       "    </tr>\n",
       "    <tr>\n",
       "      <th>954</th>\n",
       "      <td>York University</td>\n",
       "      <td>Heslington, York YO10 5DD, United Kingdom</td>\n",
       "      <td>53.944386</td>\n",
       "      <td>-1.046626</td>\n",
       "    </tr>\n",
       "    <tr>\n",
       "      <th>955</th>\n",
       "      <td>Zengo</td>\n",
       "      <td>No address found</td>\n",
       "      <td>False</td>\n",
       "      <td>False</td>\n",
       "    </tr>\n",
       "    <tr>\n",
       "      <th>956</th>\n",
       "      <td>ZURCHER HOCHSCHULE FUR ANGEWANDTE WISSENSCHAFTEN</td>\n",
       "      <td>Gertrudstrasse 15, 8400 Winterthur, Switzerland</td>\n",
       "      <td>47.49987</td>\n",
       "      <td>8.72033</td>\n",
       "    </tr>\n",
       "    <tr>\n",
       "      <th>957</th>\n",
       "      <td>Zurich University of the Arts</td>\n",
       "      <td>Pfingstweidstrasse 96, 8005 Zürich, Switzerland</td>\n",
       "      <td>47.390553</td>\n",
       "      <td>8.51185</td>\n",
       "    </tr>\n",
       "  </tbody>\n",
       "</table>\n",
       "<p>958 rows × 4 columns</p>\n",
       "</div>"
      ],
      "text/plain": [
       "                                      Institution Name  \\\n",
       "0                                        3DInteractive   \n",
       "1    4Brain, Department of Neurology, Ghent Univers...   \n",
       "2                              A.P. Møller - Mærsk A/S   \n",
       "3                                      AAL Association   \n",
       "4                                   Aalborg University   \n",
       "..                                                 ...   \n",
       "953                                  Yonsei University   \n",
       "954                                    York University   \n",
       "955                                              Zengo   \n",
       "956   ZURCHER HOCHSCHULE FUR ANGEWANDTE WISSENSCHAFTEN   \n",
       "957                      Zurich University of the Arts   \n",
       "\n",
       "                                             Address   latitude   longitude  \n",
       "0                                   No address found      False       False  \n",
       "1                                   No address found      False       False  \n",
       "2                      Esplanaden 50, 1098 København  55.687663   12.597673  \n",
       "3                                   No address found      False       False  \n",
       "4            Fredrik Bajers Vej 7K, 9220 Aalborg Øst   57.01396    9.984469  \n",
       "..                                               ...        ...         ...  \n",
       "953   50 Yonsei-ro, Seodaemun-gu, Seoul, South Korea  37.567777  126.939403  \n",
       "954        Heslington, York YO10 5DD, United Kingdom  53.944386   -1.046626  \n",
       "955                                 No address found      False       False  \n",
       "956  Gertrudstrasse 15, 8400 Winterthur, Switzerland   47.49987     8.72033  \n",
       "957  Pfingstweidstrasse 96, 8005 Zürich, Switzerland  47.390553     8.51185  \n",
       "\n",
       "[958 rows x 4 columns]"
      ]
     },
     "execution_count": 37,
     "metadata": {},
     "output_type": "execute_result"
    }
   ],
   "source": [
    "addresses"
   ]
  },
  {
   "cell_type": "code",
   "execution_count": 40,
   "metadata": {},
   "outputs": [
    {
     "data": {
      "text/plain": [
       "165"
      ]
     },
     "execution_count": 40,
     "metadata": {},
     "output_type": "execute_result"
    }
   ],
   "source": [
    "len(addresses[(addresses[\"Address\"] != \"No address found\") & (addresses[\"latitude\"] == False)])"
   ]
  },
  {
   "cell_type": "code",
   "execution_count": null,
   "metadata": {},
   "outputs": [],
   "source": []
  }
 ],
 "metadata": {
  "kernelspec": {
   "display_name": "Python 3",
   "language": "python",
   "name": "python3"
  },
  "language_info": {
   "codemirror_mode": {
    "name": "ipython",
    "version": 3
   },
   "file_extension": ".py",
   "mimetype": "text/x-python",
   "name": "python",
   "nbconvert_exporter": "python",
   "pygments_lexer": "ipython3",
   "version": "3.8.8"
  }
 },
 "nbformat": 4,
 "nbformat_minor": 2
}
