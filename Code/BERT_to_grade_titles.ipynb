{
 "cells": [
  {
   "cell_type": "code",
   "execution_count": 1,
   "metadata": {},
   "outputs": [],
   "source": [
    "#Turn on Developer Mode on you computer\n",
    "#Settings -> Update & Security -> For Developers -> Enable Developer Mode"
   ]
  },
  {
   "cell_type": "code",
   "execution_count": 1,
   "metadata": {},
   "outputs": [
    {
     "name": "stderr",
     "output_type": "stream",
     "text": [
      "Device set to use cpu\n",
      "100%|██████████| 4289/4289 [1:36:47<00:00,  1.35s/it]"
     ]
    },
    {
     "name": "stdout",
     "output_type": "stream",
     "text": [
      "Readability scores have been saved to Publications_with_scores.csv\n"
     ]
    },
    {
     "name": "stderr",
     "output_type": "stream",
     "text": [
      "\n"
     ]
    }
   ],
   "source": [
    "import pandas as pd\n",
    "import numpy as np\n",
    "from transformers import pipeline\n",
    "from tqdm import tqdm\n",
    "\n",
    "# Load the dataset\n",
    "data_file = 'Publications.csv'\n",
    "try:\n",
    "    data = pd.read_csv(data_file)\n",
    "except FileNotFoundError:\n",
    "    raise FileNotFoundError(f\"The file {data_file} was not found. Please check the path.\")\n",
    "\n",
    "# Check if the 'Title' column exists\n",
    "if 'Title' not in data.columns:\n",
    "    raise ValueError(\"The dataset does not contain a 'Title' column.\")\n",
    "\n",
    "# Load a pre-trained model for text classification\n",
    "# Using Hugging Face zero-shot classification for readability scoring\n",
    "classifier = pipeline(\"zero-shot-classification\", model=\"facebook/bart-large-mnli\", device=-1)\n",
    "\n",
    "# Function to score readability based on model output\n",
    "def score_readability(title):\n",
    "    prompt = f\"How engaging is the article title to read the full article?\"\n",
    "    choices = [\"Very poor\", \"Poor\", \"Average\", \"Good\", \"Excellent\"]\n",
    "    result = classifier(title, choices, truncation=True)\n",
    "    \n",
    "    # Map the labels to scores\n",
    "    label_scores = {\n",
    "        \"Very poor\": 1,\n",
    "        \"Poor\": 2,\n",
    "        \"Average\": 3,\n",
    "        \"Good\": 4,\n",
    "        \"Excellent\": 5\n",
    "    }\n",
    "    \n",
    "    # Extract the label with the highest score\n",
    "    best_label = result['labels'][0]\n",
    "    return label_scores.get(best_label, 3)  # Default to 3 if label not found\n",
    "\n",
    "# Wrap the titles with tqdm for a progress bar\n",
    "tqdm.pandas()  # Enables progress_apply\n",
    "\n",
    "# Apply scoring to each title with progress bar\n",
    "data['Readability_Score'] = data['Title'].progress_apply(score_readability)\n",
    "\n",
    "# Save the results to a new file\n",
    "output_file = 'Publications_with_scores.csv'\n",
    "data.to_csv(output_file, index=False)\n",
    "\n",
    "print(f\"Readability scores have been saved to {output_file}\")\n"
   ]
  }
 ],
 "metadata": {
  "kernelspec": {
   "display_name": "base",
   "language": "python",
   "name": "python3"
  },
  "language_info": {
   "codemirror_mode": {
    "name": "ipython",
    "version": 3
   },
   "file_extension": ".py",
   "mimetype": "text/x-python",
   "name": "python",
   "nbconvert_exporter": "python",
   "pygments_lexer": "ipython3",
   "version": "3.12.4"
  }
 },
 "nbformat": 4,
 "nbformat_minor": 2
}
