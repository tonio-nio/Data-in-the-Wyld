{
 "cells": [
  {
   "cell_type": "code",
   "execution_count": 26,
   "metadata": {},
   "outputs": [],
   "source": [
    "import pandas as pd\n",
    "\n",
    "# Load the scrapped Excel files into DataFrames\n",
    "institutions_years_papers_business_it = pd.read_excel('institutions_years_papers_Business_IT.xlsx')\n",
    "institutions_years_papers_computer_science = pd.read_excel('institutions_years_papers_Computer_Science.xlsx')\n",
    "institutions_years_papers_digital_design = pd.read_excel('institutions_years_papers_Digital_Design.xlsx')\n",
    "\n"
   ]
  },
  {
   "cell_type": "code",
   "execution_count": 27,
   "metadata": {},
   "outputs": [],
   "source": [
    "# Define the list of institutions to remove from Business IT\n",
    "institutions_to_remove = [\n",
    "    'Technologies in Practice (TiP)',\n",
    "    'Digital Design',\n",
    "    'Center for Digital Welfare (CDW)',\n",
    "    'Information Systems and Digital Innovation (ISDI)',\n",
    "    'Computer Science',\n",
    "    'European Blockchain Center (EBC)',\n",
    "    'Center for Climate IT',\n",
    "    'Design Research Section',\n",
    "    'Play, Culture and AI Section',\n",
    "    'Air Lab',\n",
    "    'REFLACT',\n",
    "    'Interaction Design Research Group',\n",
    "    'cisat.dk',\n",
    "    'Media, Art & Design (MAD)',\n",
    "    'IxD Lab',\n",
    "    'Digital Societies and Participation Section',\n",
    "    'NEtwoRks, Data, and Society (NERDS)',\n",
    "    'Welfare Technology - Policy - People - Practices',\n",
    "    'Data-intensive Systems and Applications',\n",
    "    'Research Centre for Government IT',\n",
    "    'ETHOS Lab',\n",
    "    'Robotics, Evolution, and Art Lab (REAL)',\n",
    "    'Co-Design',\n",
    "    'Software Engineering',\n",
    "    'The Maritime Hub (MHub)',\n",
    "    'Center for Digital Play',\n",
    "    'Games Research Group',\n",
    "    'Human Data Interaction Lab (HDI)',\n",
    "    'Software Quality',\n",
    "    'Audio-Visual Computing',\n",
    "    'Programming Logic and Semantics',\n",
    "    'Machine Learning',\n",
    "    'Human-Centered Data Science (HCDS)',\n",
    "    'Danish Institute for IT Program Management (DIIP)',\n",
    "    'Management',\n",
    "    'BUILD Lab',\n",
    "    'Algorithms'\n",
    "]\n",
    "\n",
    "# Remove rows where 'Institution' is in the institutions_to_remove list\n",
    "institutions_years_papers_business_it = institutions_years_papers_business_it[\n",
    "    ~institutions_years_papers_business_it['Institution'].isin(institutions_to_remove)\n",
    "]\n"
   ]
  },
  {
   "cell_type": "code",
   "execution_count": 28,
   "metadata": {},
   "outputs": [],
   "source": [
    "# Define the list of institutions to remove from Computer Science\n",
    "institutions_to_remove = [\n",
    "    'Technologies in Practice (TiP)',\n",
    "    'NLPnorth',\n",
    "    'Business IT',\n",
    "    'Digital Design',\n",
    "    'Center for Digital Welfare (CDW)',\n",
    "    'Information Systems and Digital Innovation (ISDI)',\n",
    "    'Computer Science',\n",
    "    'European Blockchain Center (EBC)',\n",
    "    'Center for Climate IT',\n",
    "    'Design Research Section',\n",
    "    'Play, Culture and AI Section',\n",
    "    'Air Lab',\n",
    "    'Creative AI Lab',\n",
    "    'REFLACT',\n",
    "    'Interaction Design Research Group',\n",
    "    'cisat.dk',\n",
    "    'Media, Art & Design (MAD)',\n",
    "    'IxD Lab',\n",
    "    'Digital Societies and Participation Section',\n",
    "    'NEtwoRks, Data, and Society (NERDS)',\n",
    "    'Welfare Technology - Policy - People - Practices',\n",
    "    'Data-intensive Systems and Applications',\n",
    "    'Research Centre for Government IT',\n",
    "    'ETHOS Lab',\n",
    "    'Robotics, Evolution, and Art Lab (REAL)',\n",
    "    'Co-Design',\n",
    "    'Center for Computing Education Research (CCER)',\n",
    "    'Software Engineering',\n",
    "    'The Maritime Hub (MHub)',\n",
    "    'Center for Digital Play',\n",
    "    'Games Research Group',\n",
    "    'Human Data Interaction Lab (HDI)',\n",
    "    'Software Quality',\n",
    "    'Audio-Visual Computing',\n",
    "    'Programming Logic and Semantics',\n",
    "    'Machine Learning',\n",
    "    'Human-Centered Data Science (HCDS)',\n",
    "    'Danish Institute for IT Program Management (DIIP)',\n",
    "    'Management',\n",
    "    'BUILD Lab',\n",
    "    'Procedural eXpression Lab (PXL)',\n",
    "    'Algorithms'\n",
    "]\n",
    "\n",
    "# Remove rows where 'Institution' is in the institutions_to_remove list\n",
    "institutions_years_papers_computer_science = institutions_years_papers_computer_science[\n",
    "    ~institutions_years_papers_computer_science['Institution'].isin(institutions_to_remove)\n",
    "]"
   ]
  },
  {
   "cell_type": "code",
   "execution_count": 29,
   "metadata": {},
   "outputs": [],
   "source": [
    "# Define the list of institutions to remove from Digital Design\n",
    "institutions_to_remove = [\n",
    "    'Technologies in Practice (TiP)',\n",
    "    'NLPnorth',\n",
    "    'Business IT',\n",
    "    'Digital Design',\n",
    "    'Center for Digital Welfare (CDW)',\n",
    "    'Information Systems and Digital Innovation (ISDI)',\n",
    "    'Computer Science',\n",
    "    'European Blockchain Center (EBC)',\n",
    "    'Center for Climate IT',\n",
    "    'Design Research Section',\n",
    "    'Play, Culture and AI Section',\n",
    "    'Air Lab',\n",
    "    'Creative AI Lab',\n",
    "    'REFLACT',\n",
    "    'Interaction Design Research Group',\n",
    "    'cisat.dk',\n",
    "    'Media, Art & Design (MAD)',\n",
    "    'IxD Lab',\n",
    "    'Digital Societies and Participation Section',\n",
    "    'NEtwoRks, Data, and Society (NERDS)',\n",
    "    'Welfare Technology - Policy - People - Practices',\n",
    "    'Data-intensive Systems and Applications',\n",
    "    'Research Centre for Government IT',\n",
    "    'ETHOS Lab',\n",
    "    'Robotics, Evolution, and Art Lab (REAL)',\n",
    "    'Co-Design',\n",
    "    'Center for Computing Education Research (CCER)',\n",
    "    'Software Engineering',\n",
    "    'The Maritime Hub (MHub)',\n",
    "    'Center for Digital Play',\n",
    "    'Games Research Group',\n",
    "    'Human Data Interaction Lab (HDI)',\n",
    "    'Software Quality',\n",
    "    'Audio-Visual Computing',\n",
    "    'Programming Logic and Semantics',\n",
    "    'Machine Learning',\n",
    "    'Human-Centered Data Science (HCDS)',\n",
    "    'Danish Institute for IT Program Management (DIIP)',\n",
    "    'Management',\n",
    "    'BUILD Lab',\n",
    "    'Procedural eXpression Lab (PXL)',\n",
    "    'Algorithms'\n",
    "]\n",
    "\n",
    "# Remove rows where 'Institution' is in the institutions_to_remove list\n",
    "institutions_years_papers_digital_design = institutions_years_papers_digital_design[\n",
    "    ~institutions_years_papers_digital_design['Institution'].isin(institutions_to_remove)\n",
    "]"
   ]
  },
  {
   "cell_type": "code",
   "execution_count": 34,
   "metadata": {},
   "outputs": [],
   "source": [
    "# Adding 'area' column to institutions_years_papers_business_it with value \"Business IT\"\n",
    "institutions_years_papers_business_it['Business IT'] = '1'\n",
    "institutions_years_papers_business_it['Computer Science'] = '0'\n",
    "institutions_years_papers_business_it['Digital Design'] = '0'\n",
    "\n",
    "# Adding 'area' column to institutions_years_papers_computer_science with value \"Computer Science\"\n",
    "institutions_years_papers_computer_science['Computer Science'] = '1'\n",
    "institutions_years_papers_computer_science['Business IT'] = '0'\n",
    "institutions_years_papers_computer_science['Digital Design'] = '0'\n",
    "\n",
    "# Adding 'area' column to institutions_years_papers_digital_design_cleaned with value \"Digital Design\"\n",
    "institutions_years_papers_digital_design['Digital Design'] = '1'\n",
    "institutions_years_papers_digital_design['Computer Science'] = '0'\n",
    "institutions_years_papers_digital_design['Business IT'] = '0'\n",
    "\n",
    "\n"
   ]
  },
  {
   "cell_type": "code",
   "execution_count": 37,
   "metadata": {},
   "outputs": [
    {
     "data": {
      "text/plain": [
       "Index(['Institution', 'Year', 'Title', 'Business IT', 'Computer Science',\n",
       "       'Digital Design'],\n",
       "      dtype='object')"
      ]
     },
     "execution_count": 37,
     "metadata": {},
     "output_type": "execute_result"
    }
   ],
   "source": [
    "# Combine the three DataFrames into one using pd.concat\n",
    "combined_df = pd.concat([\n",
    "    institutions_years_papers_business_it,\n",
    "    institutions_years_papers_computer_science,\n",
    "    institutions_years_papers_digital_design\n",
    "], ignore_index=True)\n",
    "\n",
    "# Verify the result by displaying the first few rows of the combined DataFrame\n",
    "combined_df.columns\n"
   ]
  },
  {
   "cell_type": "code",
   "execution_count": 38,
   "metadata": {},
   "outputs": [
    {
     "name": "stdout",
     "output_type": "stream",
     "text": [
      "Number of duplicates after cleaning: 0\n",
      "                                         Institution  Year  \\\n",
      "0                                      3DInteractive  2016   \n",
      "1  4Brain, Department of Neurology, Ghent Univers...  2021   \n",
      "2                            A.P. Møller - Mærsk A/S  2024   \n",
      "3                                    AAL Association  2017   \n",
      "4                                                ABB  2012   \n",
      "\n",
      "                                               Title Business IT  \\\n",
      "0                 How Good Is Multi-Pivot Quicksort?           0   \n",
      "1  Feasibility of transcutaneous auricular vagus ...           1   \n",
      "2  Difficulty Modelling in Mobile Puzzle Games: A...           0   \n",
      "3     Documenting emerging practices incl appendices           0   \n",
      "4    Interaction with the dirty, dangerous, and dull           0   \n",
      "\n",
      "  Computer Science Digital Design  \n",
      "0                1              0  \n",
      "1                0              0  \n",
      "2                0              1  \n",
      "3                0              1  \n",
      "4                0              1  \n"
     ]
    }
   ],
   "source": [
    "# Group by 'Institution', 'Year', 'Title' and take the maximum for 'Business IT', 'Computer Science', 'Digital Design'\n",
    "# In this way we delete dublicated articles which belong to a few areas\n",
    "combined_df_cleaned = combined_df.groupby(['Institution', 'Year', 'Title'], as_index=False).agg({\n",
    "    'Business IT': 'max',\n",
    "    'Computer Science': 'max',\n",
    "    'Digital Design': 'max'\n",
    "})\n",
    "\n",
    "# Verify the result\n",
    "print(f\"Number of duplicates after cleaning: {combined_df_cleaned.duplicated(subset=['Institution', 'Year', 'Title']).sum()}\")\n",
    "print(combined_df_cleaned.head())\n"
   ]
  },
  {
   "cell_type": "code",
   "execution_count": 39,
   "metadata": {},
   "outputs": [
    {
     "name": "stdout",
     "output_type": "stream",
     "text": [
      "DataFrame exported to Institution_Papers.xlsx successfully.\n"
     ]
    }
   ],
   "source": [
    "# Export the cleaned DataFrame to an Excel file\n",
    "combined_df_cleaned.to_excel('Institution_Papers.xlsx', index=False)\n",
    "# Confirmation message\n",
    "print(\"DataFrame exported to Institution_Papers.xlsx successfully.\")\n"
   ]
  },
  {
   "cell_type": "markdown",
   "metadata": {},
   "source": [
    "Use \"Address_Scrapping_For_Institutions.py\" to get addresses for all the institutions"
   ]
  },
  {
   "cell_type": "code",
   "execution_count": null,
   "metadata": {},
   "outputs": [],
   "source": [
    "\n",
    "combined_address_df = pd.read_excel('Institution_Addresses.xlsx')"
   ]
  },
  {
   "cell_type": "code",
   "execution_count": 51,
   "metadata": {},
   "outputs": [
    {
     "name": "stdout",
     "output_type": "stream",
     "text": [
      "Number of rows after removing duplicates: 958\n",
      "                    Institution Name  \\\n",
      "0                 Aalborg University   \n",
      "1                  Aarhus University   \n",
      "2  Johann Wolfgang Goethe University   \n",
      "3                Roskilde University   \n",
      "4           University of Copenhagen   \n",
      "\n",
      "                                             Address  \n",
      "0  Address :   Fredrik Bajers Vej 7K, 9220 Aalbor...  \n",
      "1  Address :   Nordre Ringgade 1, 8000 Aarhus Cen...  \n",
      "2  Address :   Theodor-W.-Adorno-Platz 1, 60629 F...  \n",
      "3       Address :   Universitetsvej 1, 4000 Roskilde  \n",
      "4           Address :   Nørregade 10, 1172 København  \n"
     ]
    }
   ],
   "source": [
    "# Remove duplicates based on the 'Institution Name' column, keeping the first occurrence\n",
    "combined_address_df_cleaned = combined_address_df.drop_duplicates(subset=['Institution Name'], keep='first')\n",
    "\n",
    "# Verify the result by checking the number of remaining rows and displaying the first few rows\n",
    "print(f\"Number of rows after removing duplicates: {len(combined_address_df_cleaned)}\")\n",
    "print(combined_address_df_cleaned.head())\n"
   ]
  },
  {
   "cell_type": "code",
   "execution_count": 52,
   "metadata": {},
   "outputs": [
    {
     "name": "stdout",
     "output_type": "stream",
     "text": [
      "                    Institution Name  \\\n",
      "0                 Aalborg University   \n",
      "1                  Aarhus University   \n",
      "2  Johann Wolfgang Goethe University   \n",
      "3                Roskilde University   \n",
      "4           University of Copenhagen   \n",
      "\n",
      "                                             Address  \n",
      "0            Fredrik Bajers Vej 7K, 9220 Aalborg Øst  \n",
      "1             Nordre Ringgade 1, 8000 Aarhus Centrum  \n",
      "2  Theodor-W.-Adorno-Platz 1, 60629 Frankfurt am ...  \n",
      "3                   Universitetsvej 1, 4000 Roskilde  \n",
      "4                       Nørregade 10, 1172 København  \n"
     ]
    },
    {
     "name": "stderr",
     "output_type": "stream",
     "text": [
      "C:\\Users\\Mikas\\AppData\\Local\\Temp\\ipykernel_8116\\3503200363.py:5: SettingWithCopyWarning: \n",
      "A value is trying to be set on a copy of a slice from a DataFrame.\n",
      "Try using .loc[row_indexer,col_indexer] = value instead\n",
      "\n",
      "See the caveats in the documentation: https://pandas.pydata.org/pandas-docs/stable/user_guide/indexing.html#returning-a-view-versus-a-copy\n",
      "  combined_address_df_cleaned['Address'] = combined_address_df_cleaned['Address'].str.replace(r\"^(Address :|Headquarters :)\\s*\", \"\", regex=True)\n"
     ]
    }
   ],
   "source": [
    "# Filter out rows where 'Address' contains \"No address found\"\n",
    "#filtered_combined_address_df = combined_address_df_cleaned[~combined_address_df_cleaned['Address'].str.contains(\"No address found\", na=False)]\n",
    "\n",
    "# Remove the \"Address :\" and \"Headquarters :\" prefixes from the 'Address' column\n",
    "combined_address_df_cleaned['Address'] = combined_address_df_cleaned['Address'].str.replace(r\"^(Address :|Headquarters :)\\s*\", \"\", regex=True)\n",
    "\n",
    "# Verify the result by displaying the first few rows of the cleaned DataFrame\n",
    "print(combined_address_df_cleaned[['Institution Name', 'Address']].head())\n"
   ]
  },
  {
   "cell_type": "code",
   "execution_count": 53,
   "metadata": {},
   "outputs": [
    {
     "name": "stdout",
     "output_type": "stream",
     "text": [
      "DataFrame exported to Institution_Address.xlsx successfully.\n"
     ]
    }
   ],
   "source": [
    "# Export the cleaned DataFrame to an Excel file\n",
    "combined_address_df_cleaned.to_excel('Institution_Address_Cleaned.xlsx', index=False)\n",
    "\n",
    "# Confirmation message\n",
    "print(\"DataFrame exported to Institution_Address.xlsx successfully.\")"
   ]
  },
  {
   "cell_type": "code",
   "execution_count": 14,
   "metadata": {},
   "outputs": [
    {
     "name": "stdout",
     "output_type": "stream",
     "text": [
      "          Institution  Year  \\\n",
      "0  Aalborg University  2024   \n",
      "1  Aalborg University  2024   \n",
      "2  Aalborg University  2023   \n",
      "3  Aalborg University  2023   \n",
      "4  Aalborg University  2023   \n",
      "\n",
      "                                               Title         area  \\\n",
      "0  The role of psychological safety in promoting ...  Business IT   \n",
      "1  Approaching digital anthropocene(s): A double ...  Business IT   \n",
      "2  Proposing organisational usability as an enabl...  Business IT   \n",
      "3  Opening the Blind Box: A multimodal account of...  Business IT   \n",
      "4                          Organisations as material  Business IT   \n",
      "\n",
      "                                   Address  \n",
      "0  Fredrik Bajers Vej 7K, 9220 Aalborg Øst  \n",
      "1  Fredrik Bajers Vej 7K, 9220 Aalborg Øst  \n",
      "2  Fredrik Bajers Vej 7K, 9220 Aalborg Øst  \n",
      "3  Fredrik Bajers Vej 7K, 9220 Aalborg Øst  \n",
      "4  Fredrik Bajers Vej 7K, 9220 Aalborg Øst  \n"
     ]
    }
   ],
   "source": [
    "# Step 1: Rename 'Institution Name' in filtered_combined_address_df to 'Institution' for the merge\n",
    "filtered_combined_address_df = combined_address_df_cleaned.rename(columns={'Institution Name': 'Institution'})\n",
    "\n",
    "# Step 2: Merge the two DataFrames on the 'Institution' column\n",
    "df = pd.merge(combined_df_cleaned, filtered_combined_address_df[['Institution', 'Address']], on='Institution', how='left')\n",
    "\n",
    "# Step 3: Verify the result by displaying the first few rows of the merged DataFrame\n",
    "print(df.head())\n"
   ]
  }
 ],
 "metadata": {
  "kernelspec": {
   "display_name": ".conda",
   "language": "python",
   "name": "python3"
  },
  "language_info": {
   "codemirror_mode": {
    "name": "ipython",
    "version": 3
   },
   "file_extension": ".py",
   "mimetype": "text/x-python",
   "name": "python",
   "nbconvert_exporter": "python",
   "pygments_lexer": "ipython3",
   "version": "3.11.9"
  }
 },
 "nbformat": 4,
 "nbformat_minor": 2
}
